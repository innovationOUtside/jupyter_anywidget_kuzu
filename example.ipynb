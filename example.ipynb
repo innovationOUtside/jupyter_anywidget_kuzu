{
	"cells": [
		{
			"cell_type": "code",
			"execution_count": null,
			"metadata": {},
			"outputs": [],
			"source": [
				"%load_ext autoreload\n",
				"%autoreload 2\n",
				"%env ANYWIDGET_HMR=1"
			]
		},
		{
			"cell_type": "code",
			"execution_count": 1,
			"metadata": {},
			"outputs": [
				{
					"data": {
						"text/plain": [
							"'initialised'"
						]
					},
					"metadata": {},
					"output_type": "display_data"
				},
				{
					"name": "stdout",
					"output_type": "stream",
					"text": [
						"initialised2\n"
					]
				},
				{
					"data": {
						"application/vnd.jupyter.widget-view+json": {
							"model_id": "55771576c38e43e39c5e06a1d9113e4b",
							"version_major": 2,
							"version_minor": 1
						},
						"text/plain": [
							"kuzuWidget()"
						]
					},
					"metadata": {},
					"output_type": "display_data"
				}
			],
			"source": [
				"from jupyter_anywidget_kuzu import kuzu_inline, kuzuWidget, Widget\n",
				"\n",
				"kz = kuzu_inline()"
			]
		},
		{
			"cell_type": "code",
			"execution_count": 2,
			"metadata": {},
			"outputs": [
				{
					"data": {
						"application/vnd.jupyter.widget-view+json": {
							"model_id": "f90b3c8382274860ae8d7f100bf920b4",
							"version_major": 2,
							"version_minor": 1
						},
						"text/plain": [
							"Widget()"
						]
					},
					"execution_count": 2,
					"metadata": {},
					"output_type": "execute_result"
				}
			],
			"source": [
				"Widget()"
			]
		},
		{
			"cell_type": "code",
			"execution_count": null,
			"metadata": {},
			"outputs": [],
			"source": []
		}
	],
	"metadata": {
		"kernelspec": {
			"display_name": "Python 3",
			"language": "python",
			"name": "python3"
		},
		"language_info": {
			"codemirror_mode": {
				"name": "ipython",
				"version": 3
			},
			"file_extension": ".py",
			"mimetype": "text/x-python",
			"name": "python",
			"nbconvert_exporter": "python",
			"pygments_lexer": "ipython3",
			"version": "3.11.0"
		}
	},
	"nbformat": 4,
	"nbformat_minor": 2
}
